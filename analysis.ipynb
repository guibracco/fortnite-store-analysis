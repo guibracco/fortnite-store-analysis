{
 "cells": [
  {
   "cell_type": "markdown",
   "metadata": {},
   "source": [
    "# Item Store Analysis\n",
    "\n",
    "### Fortnite Battle Royale\n",
    "\n",
    "This study intends to cover the availability and monetization of the items daily on sale for Fortnite Battle Royale."
   ]
  },
  {
   "cell_type": "markdown",
   "metadata": {},
   "source": [
    "Fortnite Battle Royale by Epic Games is one of the most sucessful "
   ]
  },
  {
   "cell_type": "code",
   "execution_count": 6,
   "metadata": {},
   "outputs": [
    {
     "data": {
      "text/plain": [
       "'/Users/gdbr/Documents/Hyper Island/DA24STO/Modules/12. Individual Project/fortnite-store-analysis'"
      ]
     },
     "execution_count": 6,
     "metadata": {},
     "output_type": "execute_result"
    },
    {
     "data": {
      "text/plain": [
       "<Figure size 960x720 with 0 Axes>"
      ]
     },
     "metadata": {},
     "output_type": "display_data"
    }
   ],
   "source": [
    "import numpy as np\n",
    "import pandas as pd\n",
    "import matplotlib.pyplot as plt\n",
    "import seaborn as sns\n",
    "import seaborn.objects as so\n",
    "import os\n",
    "\n",
    "\n",
    "plt.rcParams.update({\"figure.dpi\": 150}) # set dpi for all figures\n",
    "sns.despine() # remove top and right spines from plots\n",
    "plt.style.use(\"dark_background\")\n",
    "\n",
    "os.getcwd() # get current working directory"
   ]
  },
  {
   "cell_type": "code",
   "execution_count": 7,
   "metadata": {},
   "outputs": [],
   "source": [
    "# Load the data\n",
    "df = pd.read_csv(os.getcwd() + \"/csv/\" + \"store_updated.csv\")"
   ]
  },
  {
   "cell_type": "code",
   "execution_count": 8,
   "metadata": {},
   "outputs": [
    {
     "data": {
      "text/html": [
       "<div>\n",
       "<style scoped>\n",
       "    .dataframe tbody tr th:only-of-type {\n",
       "        vertical-align: middle;\n",
       "    }\n",
       "\n",
       "    .dataframe tbody tr th {\n",
       "        vertical-align: top;\n",
       "    }\n",
       "\n",
       "    .dataframe thead th {\n",
       "        text-align: right;\n",
       "    }\n",
       "</style>\n",
       "<table border=\"1\" class=\"dataframe\">\n",
       "  <thead>\n",
       "    <tr style=\"text-align: right;\">\n",
       "      <th></th>\n",
       "      <th>date</th>\n",
       "      <th>rarity</th>\n",
       "      <th>item_type</th>\n",
       "      <th>name</th>\n",
       "      <th>cost</th>\n",
       "      <th>year</th>\n",
       "      <th>quarter</th>\n",
       "      <th>month</th>\n",
       "      <th>week</th>\n",
       "    </tr>\n",
       "  </thead>\n",
       "  <tbody>\n",
       "    <tr>\n",
       "      <th>0</th>\n",
       "      <td>2017-10-30</td>\n",
       "      <td>rare</td>\n",
       "      <td>outfit</td>\n",
       "      <td>First strike Specialist</td>\n",
       "      <td>1200</td>\n",
       "      <td>2017</td>\n",
       "      <td>4</td>\n",
       "      <td>10</td>\n",
       "      <td>44</td>\n",
       "    </tr>\n",
       "    <tr>\n",
       "      <th>1</th>\n",
       "      <td>2017-10-30</td>\n",
       "      <td>epic</td>\n",
       "      <td>outfit</td>\n",
       "      <td>Ghoul Trooper</td>\n",
       "      <td>1500</td>\n",
       "      <td>2017</td>\n",
       "      <td>4</td>\n",
       "      <td>10</td>\n",
       "      <td>44</td>\n",
       "    </tr>\n",
       "    <tr>\n",
       "      <th>2</th>\n",
       "      <td>2017-10-30</td>\n",
       "      <td>uncommon</td>\n",
       "      <td>outfit</td>\n",
       "      <td>Scout</td>\n",
       "      <td>800</td>\n",
       "      <td>2017</td>\n",
       "      <td>4</td>\n",
       "      <td>10</td>\n",
       "      <td>44</td>\n",
       "    </tr>\n",
       "    <tr>\n",
       "      <th>3</th>\n",
       "      <td>2017-10-30</td>\n",
       "      <td>uncommon</td>\n",
       "      <td>glider</td>\n",
       "      <td>Petunia</td>\n",
       "      <td>500</td>\n",
       "      <td>2017</td>\n",
       "      <td>4</td>\n",
       "      <td>10</td>\n",
       "      <td>44</td>\n",
       "    </tr>\n",
       "    <tr>\n",
       "      <th>4</th>\n",
       "      <td>2017-10-30</td>\n",
       "      <td>rare</td>\n",
       "      <td>outfit</td>\n",
       "      <td>Recon Expert</td>\n",
       "      <td>1200</td>\n",
       "      <td>2017</td>\n",
       "      <td>4</td>\n",
       "      <td>10</td>\n",
       "      <td>44</td>\n",
       "    </tr>\n",
       "  </tbody>\n",
       "</table>\n",
       "</div>"
      ],
      "text/plain": [
       "         date    rarity item_type                     name  cost  year   \n",
       "0  2017-10-30      rare    outfit  First strike Specialist  1200  2017  \\\n",
       "1  2017-10-30      epic    outfit            Ghoul Trooper  1500  2017   \n",
       "2  2017-10-30  uncommon    outfit                    Scout   800  2017   \n",
       "3  2017-10-30  uncommon    glider                  Petunia   500  2017   \n",
       "4  2017-10-30      rare    outfit             Recon Expert  1200  2017   \n",
       "\n",
       "   quarter  month  week  \n",
       "0        4     10    44  \n",
       "1        4     10    44  \n",
       "2        4     10    44  \n",
       "3        4     10    44  \n",
       "4        4     10    44  "
      ]
     },
     "metadata": {},
     "output_type": "display_data"
    },
    {
     "data": {
      "text/plain": [
       "array(['rare', 'epic', 'uncommon', 'legendary', 'slurp', 'marvel', 'dark',\n",
       "       'icon_series', 'frozen', 'shadow', 'gaming_legends', 'dc',\n",
       "       'star_wars', 'lava', 'common'], dtype=object)"
      ]
     },
     "metadata": {},
     "output_type": "display_data"
    },
    {
     "data": {
      "text/plain": [
       "array(['outfit', 'glider', 'pickaxe', 'emote', 'misc', 'backpack',\n",
       "       'skydive', 'bundle', 'wrap', 'toy', 'pet', 'music', 'banner',\n",
       "       'loading', 'spray', 'emoji'], dtype=object)"
      ]
     },
     "metadata": {},
     "output_type": "display_data"
    }
   ],
   "source": [
    "display(df.head())\n",
    "display(df['rarity'].unique())\n",
    "display(df['item_type'].unique())"
   ]
  },
  {
   "cell_type": "code",
   "execution_count": 5,
   "metadata": {},
   "outputs": [
    {
     "data": {
      "text/plain": [
       "3351"
      ]
     },
     "execution_count": 5,
     "metadata": {},
     "output_type": "execute_result"
    }
   ],
   "source": [
    "# Number of unique items — assuming names act like unique id\n",
    "len(df[\"name\"].unique())"
   ]
  }
 ],
 "metadata": {
  "kernelspec": {
   "display_name": "Python 3",
   "language": "python",
   "name": "python3"
  },
  "language_info": {
   "codemirror_mode": {
    "name": "ipython",
    "version": 3
   },
   "file_extension": ".py",
   "mimetype": "text/x-python",
   "name": "python",
   "nbconvert_exporter": "python",
   "pygments_lexer": "ipython3",
   "version": "3.11.4"
  },
  "orig_nbformat": 4
 },
 "nbformat": 4,
 "nbformat_minor": 2
}
